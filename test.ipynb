{
 "cells": [
  {
   "cell_type": "code",
   "execution_count": 1,
   "metadata": {},
   "outputs": [],
   "source": [
    "import os\n",
    "import numpy as np\n",
    "from utils import read_wordvec\n",
    "\n",
    "if not os.path.exists('wiki.en.align.vec'):\n",
    "    os.system('wget https://s3.amazonaws.com/aligned-en-zh-wordvec/wiki.en.align.vec')\n",
    "if not os.path.exists('wiki.zh.align.vec'):\n",
    "    os.system('wget https://s3.amazonaws.com/aligned-en-zh-wordvec/wiki.zh.align.vec')\n",
    "    \n",
    "en_words, en_vectors, en_word2id = read_wordvec('wiki.en.align.vec')\n",
    "zh_words, zh_vectors, zh_word2id = read_wordvec('wiki.zh.align.vec')\n",
    "\n"
   ]
  },
  {
   "cell_type": "code",
   "execution_count": 7,
   "metadata": {},
   "outputs": [
    {
     "data": {
      "text/plain": [
       "(40000, 40000)"
      ]
     },
     "execution_count": 7,
     "metadata": {},
     "output_type": "execute_result"
    }
   ],
   "source": [
    "len(zh_word2id), len(en_word2id)"
   ]
  },
  {
   "cell_type": "code",
   "execution_count": 5,
   "metadata": {},
   "outputs": [
    {
     "name": "stdout",
     "output_type": "stream",
     "text": [
      "spacewatch: 0.3439\n",
      "loneos: 0.3299\n",
      "kitt: 0.3030\n",
      "gehrels: 0.2875\n",
      "lemmon: 0.2862\n",
      "palomar: 0.2819\n",
      "ntupdate: 0.2786\n",
      "irdt: 0.2762\n",
      "haleakala: 0.2720\n",
      "totalgoals: 0.2710\n"
     ]
    }
   ],
   "source": [
    "scores = en_vectors.dot(zh_vectors[zh_word2id['小行星']])\n",
    "for idx in np.argsort(-scores)[0:10]:\n",
    "    print('%s: %.4f' % (en_words[idx], scores[idx]))"
   ]
  },
  {
   "cell_type": "code",
   "execution_count": null,
   "metadata": {},
   "outputs": [],
   "source": []
  }
 ],
 "metadata": {
  "kernelspec": {
   "display_name": "Python 3",
   "language": "python",
   "name": "python3"
  },
  "language_info": {
   "codemirror_mode": {
    "name": "ipython",
    "version": 3
   },
   "file_extension": ".py",
   "mimetype": "text/x-python",
   "name": "python",
   "nbconvert_exporter": "python",
   "pygments_lexer": "ipython3",
   "version": "3.6.8"
  }
 },
 "nbformat": 4,
 "nbformat_minor": 4
}
